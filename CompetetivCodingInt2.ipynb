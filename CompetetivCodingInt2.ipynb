{
  "nbformat": 4,
  "nbformat_minor": 0,
  "metadata": {
    "colab": {
      "provenance": [],
      "collapsed_sections": [
        "vInLeLdFQEtq",
        "TYKEorV-QIHO",
        "lS7YCEd-QTxp",
        "IUEfJWWAQYr4",
        "3uKsVxDeQeYc",
        "oADj2M_hQoo5",
        "Cja-PEJGQsQj",
        "fjQTHN82Qyo3",
        "fFo8yXZcQ2jc",
        "Hm9eU_cEQ_9W",
        "sJB7sMj9RexJ",
        "JJ8-PJJVRMls"
      ],
      "authorship_tag": "ABX9TyNTLdBhVdJ+N5Uccp2leZNE",
      "include_colab_link": true
    },
    "kernelspec": {
      "name": "python3",
      "display_name": "Python 3"
    },
    "language_info": {
      "name": "python"
    }
  },
  "cells": [
    {
      "cell_type": "markdown",
      "metadata": {
        "id": "view-in-github",
        "colab_type": "text"
      },
      "source": [
        "<a href=\"https://colab.research.google.com/github/GodishalaAshwith/CompCoding-Streak/blob/main/CompetetivCodingInt2.ipynb\" target=\"_parent\"><img src=\"https://colab.research.google.com/assets/colab-badge.svg\" alt=\"Open In Colab\"/></a>"
      ]
    },
    {
      "cell_type": "markdown",
      "source": [
        "### 1. Tiling with L-Shaped Trominoes (Divide and Conquer)"
      ],
      "metadata": {
        "id": "vInLeLdFQEtq"
      }
    },
    {
      "cell_type": "code",
      "execution_count": 4,
      "metadata": {
        "colab": {
          "base_uri": "https://localhost:8080/"
        },
        "id": "x8E7rXNQP8Lp",
        "outputId": "f24e1d73-20ba-4067-d2dc-531bfdfebda5"
      },
      "outputs": [
        {
          "output_type": "stream",
          "name": "stdout",
          "text": [
            "[2, 2, 0, 0]\n",
            "[2, -1, 1, 0]\n",
            "[0, 1, 1, 0]\n",
            "[0, 0, 0, 0]\n"
          ]
        }
      ],
      "source": [
        "def tile_board(board, n, r, c, mr, mc, tile_num_ref):\n",
        "    if n == 2:\n",
        "        tile_num_ref[0] += 1\n",
        "        for i in range(r, r + n):\n",
        "            for j in range(c, c + n):\n",
        "                if board[i][j] == 0:\n",
        "                    board[i][j] = tile_num_ref[0]\n",
        "        return\n",
        "\n",
        "    tile_num_ref[0] += 1\n",
        "    tile_to_place = tile_num_ref[0]\n",
        "    qr, qc = r + n // 2, c + n // 2 # quadrant row/col\n",
        "\n",
        "    # Place one L-tile at the center\n",
        "    if mr < qr and mc < qc: # Missing cell is in 1st quadrant\n",
        "        board[qr][qc-1] = board[qr-1][qc] = board[qr][qc] = tile_to_place\n",
        "    elif mr < qr and mc >= qc: # 2nd quadrant\n",
        "        board[qr][qc-1] = board[qr-1][qc-1] = board[qr][qc] = tile_to_place\n",
        "    elif mr >= qr and mc < qc: # 3rd quadrant\n",
        "        board[qr-1][qc] = board[qr-1][qc-1] = board[qr][qc] = tile_to_place\n",
        "    elif mr >= qr and mc >= qc: # 4th quadrant\n",
        "        board[qr-1][qc-1] = board[qr][qc-1] = board[qr-1][qc] = tile_to_place\n",
        "\n",
        "    # Recur for four sub-boards\n",
        "    find_and_tile(board, n // 2, r, c, tile_to_place)\n",
        "    find_and_tile(board, n // 2, r, c + n // 2, tile_to_place)\n",
        "    find_and_tile(board, n // 2, r + n // 2, c, tile_to_place)\n",
        "    find_and_tile(board, n // 2, r + n // 2, c + n // 2, tile_to_place)\n",
        "\n",
        "def find_and_tile(board, n, r, c, tile_placed):\n",
        "    for i in range(r, r + n):\n",
        "        for j in range(c, c + n):\n",
        "            if board[i][j] != 0 and board[i][j] != tile_placed:\n",
        "                tile_board(board, n, r, c, i, j, [tile_placed])\n",
        "                return\n",
        "\n",
        "# Example Usage\n",
        "n = 4\n",
        "board = [[0] * n for _ in range(n)]\n",
        "missing_row, missing_col = 1, 1\n",
        "board[missing_row][missing_col] = -1 # Mark the missing cell\n",
        "tile_board(board, n, 0, 0, missing_row, missing_col, [0])\n",
        "for row in board: print(row)\n",
        "# Expected Output:\n",
        "# [2, 2, 3, 3]\n",
        "# [2, -1, 1, 3]\n",
        "# [4, 1, 1, 5]\n",
        "# [4, 4, 5, 5]"
      ]
    },
    {
      "cell_type": "markdown",
      "source": [
        "### 2. Climbing Stairs (Dynamic Programming)"
      ],
      "metadata": {
        "id": "TYKEorV-QIHO"
      }
    },
    {
      "cell_type": "code",
      "source": [
        "def climb_stairs(n: int) -> int:\n",
        "    if n <= 2:\n",
        "        return n\n",
        "    one_step_before, two_steps_before = 2, 1\n",
        "    for _ in range(3, n + 1):\n",
        "        current_ways = one_step_before + two_steps_before\n",
        "        two_steps_before = one_step_before\n",
        "        one_step_before = current_ways\n",
        "    return one_step_before\n",
        "\n",
        "# Example Usage\n",
        "print(climb_stairs(5)) # Output: 8"
      ],
      "metadata": {
        "colab": {
          "base_uri": "https://localhost:8080/"
        },
        "id": "iOseey37QK8F",
        "outputId": "df45f6c0-6aab-40c4-9d90-f8a6d6fa9176"
      },
      "execution_count": 5,
      "outputs": [
        {
          "output_type": "stream",
          "name": "stdout",
          "text": [
            "8\n"
          ]
        }
      ]
    },
    {
      "cell_type": "markdown",
      "source": [
        "### 3. House Robber (Dynamic Programming)"
      ],
      "metadata": {
        "id": "lS7YCEd-QTxp"
      }
    },
    {
      "cell_type": "code",
      "source": [
        "def rob(nums: list[int]) -> int:\n",
        "    rob1, rob2 = 0, 0\n",
        "    # [rob1, rob2, n, n+1, ...]\n",
        "    for n in nums:\n",
        "        temp = max(n + rob1, rob2)\n",
        "        rob1 = rob2\n",
        "        rob2 = temp\n",
        "    return rob2\n",
        "\n",
        "# Example Usage\n",
        "print(rob([2, 7, 9, 3, 1])) # Output: 12"
      ],
      "metadata": {
        "colab": {
          "base_uri": "https://localhost:8080/"
        },
        "id": "rchtbdpqQWAe",
        "outputId": "04d51d08-ebcd-4fd4-f7e7-5e4ad64ae3e0"
      },
      "execution_count": 7,
      "outputs": [
        {
          "output_type": "stream",
          "name": "stdout",
          "text": [
            "12\n"
          ]
        }
      ]
    },
    {
      "cell_type": "markdown",
      "source": [
        "### 4. Coin Change (Dynamic Programming)"
      ],
      "metadata": {
        "id": "IUEfJWWAQYr4"
      }
    },
    {
      "cell_type": "code",
      "source": [
        "def coin_change(coins: list[int], amount: int) -> int:\n",
        "    dp = [amount + 1] * (amount + 1)\n",
        "    dp[0] = 0\n",
        "\n",
        "    for a in range(1, amount + 1):\n",
        "        for c in coins:\n",
        "            if a - c >= 0:\n",
        "                dp[a] = min(dp[a], 1 + dp[a - c])\n",
        "\n",
        "    return dp[amount] if dp[amount] != amount + 1 else -1\n",
        "\n",
        "# Example Usage\n",
        "print(coin_change([1, 2, 5], 11)) # Output: 3"
      ],
      "metadata": {
        "colab": {
          "base_uri": "https://localhost:8080/"
        },
        "id": "KF2EWHp-QbV-",
        "outputId": "07674759-cd5a-4423-b3e3-a91c42a2b077"
      },
      "execution_count": 9,
      "outputs": [
        {
          "output_type": "stream",
          "name": "stdout",
          "text": [
            "3\n"
          ]
        }
      ]
    },
    {
      "cell_type": "markdown",
      "source": [
        "### 5. Gas Station (Greedy)"
      ],
      "metadata": {
        "id": "3uKsVxDeQeYc"
      }
    },
    {
      "cell_type": "code",
      "source": [
        "def can_complete_circuit(gas: list[int], cost: list[int]) -> int:\n",
        "    if sum(gas) < sum(cost):\n",
        "        return -1\n",
        "\n",
        "    total_tank = 0\n",
        "    start_station = 0\n",
        "    for i in range(len(gas)):\n",
        "        total_tank += gas[i] - cost[i]\n",
        "\n",
        "        if total_tank < 0:\n",
        "            total_tank = 0\n",
        "            start_station = i + 1\n",
        "\n",
        "    return start_station\n",
        "\n",
        "# Example Usage\n",
        "print(can_complete_circuit([1,2,3,4,5], [3,4,5,1,2])) # Output: 3"
      ],
      "metadata": {
        "colab": {
          "base_uri": "https://localhost:8080/"
        },
        "id": "jdioxbk4QjU3",
        "outputId": "14dd051c-3228-4b1d-9150-cf93e471abed"
      },
      "execution_count": 10,
      "outputs": [
        {
          "output_type": "stream",
          "name": "stdout",
          "text": [
            "3\n"
          ]
        }
      ]
    },
    {
      "cell_type": "markdown",
      "source": [
        "### 6. Subsets (Backtracking)"
      ],
      "metadata": {
        "id": "oADj2M_hQoo5"
      }
    },
    {
      "cell_type": "code",
      "source": [
        "def subsets(nums: list[int]) -> list[list[int]]:\n",
        "    res = []\n",
        "\n",
        "    def backtrack(start_index, path):\n",
        "        res.append(path[:])\n",
        "        for i in range(start_index, len(nums)):\n",
        "            path.append(nums[i])\n",
        "            backtrack(i + 1, path)\n",
        "            path.pop()\n",
        "\n",
        "    backtrack(0, [])\n",
        "    return res\n",
        "\n",
        "# Example Usage\n",
        "print(subsets([1, 2, 3])) # Output: [[], [1], [1, 2], [1, 2, 3], [1, 3], [2], [2, 3], [3]]"
      ],
      "metadata": {
        "colab": {
          "base_uri": "https://localhost:8080/"
        },
        "id": "vwFmoAuIQpdO",
        "outputId": "85709dfa-04e4-4f92-d921-5c4868cd6cf3"
      },
      "execution_count": 11,
      "outputs": [
        {
          "output_type": "stream",
          "name": "stdout",
          "text": [
            "[[], [1], [1, 2], [1, 2, 3], [1, 3], [2], [2, 3], [3]]\n"
          ]
        }
      ]
    },
    {
      "cell_type": "markdown",
      "source": [
        "### 7. Word Search in a Board (Backtracking)"
      ],
      "metadata": {
        "id": "Cja-PEJGQsQj"
      }
    },
    {
      "cell_type": "code",
      "source": [
        "def exist(board: list[list[str]], word: str) -> bool:\n",
        "    ROWS, COLS = len(board), len(board[0])\n",
        "    path = set()\n",
        "\n",
        "    def dfs(r, c, i):\n",
        "        if i == len(word):\n",
        "            return True\n",
        "        if (r < 0 or c < 0 or r >= ROWS or c >= COLS or\n",
        "            word[i] != board[r][c] or (r, c) in path):\n",
        "            return False\n",
        "\n",
        "        path.add((r, c))\n",
        "        res = (dfs(r + 1, c, i + 1) or dfs(r - 1, c, i + 1) or\n",
        "               dfs(r, c + 1, i + 1) or dfs(r, c - 1, i + 1))\n",
        "        path.remove((r, c))\n",
        "        return res\n",
        "\n",
        "    for r in range(ROWS):\n",
        "        for c in range(COLS):\n",
        "            if dfs(r, c, 0): return True\n",
        "    return False\n",
        "\n",
        "# Example Usage\n",
        "board = [[\"A\",\"B\",\"C\",\"E\"],[\"S\",\"F\",\"C\",\"S\"],[\"A\",\"D\",\"E\",\"E\"]]\n",
        "print(exist(board, \"ABCCED\")) # Output: True"
      ],
      "metadata": {
        "colab": {
          "base_uri": "https://localhost:8080/"
        },
        "id": "jocGneviQunv",
        "outputId": "890be93a-8cc0-4f16-89b2-48f7edad33a3"
      },
      "execution_count": 13,
      "outputs": [
        {
          "output_type": "stream",
          "name": "stdout",
          "text": [
            "True\n"
          ]
        }
      ]
    },
    {
      "cell_type": "markdown",
      "source": [
        "### 8. Connect Ropes (Min-Heap)"
      ],
      "metadata": {
        "id": "fjQTHN82Qyo3"
      }
    },
    {
      "cell_type": "code",
      "source": [
        "import heapq\n",
        "\n",
        "def min_cost_to_connect_ropes(ropes: list[int]) -> int:\n",
        "    heapq.heapify(ropes)\n",
        "    total_cost = 0\n",
        "\n",
        "    while len(ropes) > 1:\n",
        "        rope1 = heapq.heappop(ropes)\n",
        "        rope2 = heapq.heappop(ropes)\n",
        "        cost = rope1 + rope2\n",
        "        total_cost += cost\n",
        "        heapq.heappush(ropes, cost)\n",
        "\n",
        "    return total_cost\n",
        "\n",
        "# Example Usage\n",
        "print(min_cost_to_connect_ropes([4, 3, 2, 6])) # Output: 29"
      ],
      "metadata": {
        "colab": {
          "base_uri": "https://localhost:8080/"
        },
        "id": "_0udBV7jQyKG",
        "outputId": "2cf4b354-1d33-4673-b4dc-1489b881a80e"
      },
      "execution_count": 14,
      "outputs": [
        {
          "output_type": "stream",
          "name": "stdout",
          "text": [
            "29\n"
          ]
        }
      ]
    },
    {
      "cell_type": "markdown",
      "source": [
        "### 9. N Meetings in One Room (Greedy)"
      ],
      "metadata": {
        "id": "fFo8yXZcQ2jc"
      }
    },
    {
      "cell_type": "code",
      "source": [
        "def max_meetings(start: list[int], end: list[int]) -> list[int]:\n",
        "    meetings = sorted(zip(start, end, range(1, len(start) + 1)), key=lambda x: x[1])\n",
        "\n",
        "    result_order = []\n",
        "    last_finish_time = -1\n",
        "\n",
        "    for s, e, i in meetings:\n",
        "        if s > last_finish_time:\n",
        "            result_order.append(i)\n",
        "            last_finish_time = e\n",
        "\n",
        "    return result_order\n",
        "\n",
        "# Example Usage\n",
        "start = [1, 3, 0, 5, 8, 5]\n",
        "end = [2, 4, 6, 7, 9, 9]\n",
        "print(max_meetings(start, end)) # Output: [1, 2, 4, 5]"
      ],
      "metadata": {
        "colab": {
          "base_uri": "https://localhost:8080/"
        },
        "id": "YkU0ORFkQ2Hl",
        "outputId": "eb702e9a-be77-454a-8af7-6cfb983ca456"
      },
      "execution_count": 15,
      "outputs": [
        {
          "output_type": "stream",
          "name": "stdout",
          "text": [
            "[1, 2, 4, 5]\n"
          ]
        }
      ]
    },
    {
      "cell_type": "markdown",
      "source": [
        "### 10. Palindrome Linked List"
      ],
      "metadata": {
        "id": "Hm9eU_cEQ_9W"
      }
    },
    {
      "cell_type": "code",
      "source": [
        "# Definition for singly-linked list, needed for both examples.\n",
        "class ListNode:\n",
        "    def __init__(self, val=0, next=None):\n",
        "        self.val = val\n",
        "        self.next = next\n",
        "\n",
        "def is_palindrome(head: ListNode) -> bool:\n",
        "    slow, fast, prev = head, head, None\n",
        "    # Reverse the first half while finding the middle\n",
        "    while fast and fast.next:\n",
        "        fast = fast.next.next\n",
        "        # Standard reverse logic\n",
        "        temp = slow.next\n",
        "        slow.next = prev\n",
        "        prev = slow\n",
        "        slow = temp\n",
        "\n",
        "    # If the list has an odd number of nodes, skip the middle element\n",
        "    if fast:\n",
        "        slow = slow.next\n",
        "\n",
        "    # Compare the reversed first half (prev) with the second half (slow)\n",
        "    while prev and prev.val == slow.val:\n",
        "        slow = slow.next\n",
        "        prev = prev.next\n",
        "\n",
        "    # If prev is None, it means all nodes matched\n",
        "    return not prev\n",
        "\n",
        "# --- Example Execution ---\n",
        "\n",
        "# 1. Test with a palindrome list: 1 -> 2 -> 2 -> 1\n",
        "head_palindrome = ListNode(1, ListNode(2, ListNode(2, ListNode(1))))\n",
        "result1 = is_palindrome(head_palindrome)\n",
        "print(f\"Is the list 1->2->2->1 a palindrome? {result1}\")\n",
        "# Expected Output: Is the list 1->2->2->1 a palindrome? True\n",
        "\n",
        "\n",
        "# 2. Test with a non-palindrome list: 1 -> 2 -> 3\n",
        "head_non_palindrome = ListNode(1, ListNode(2, ListNode(3)))\n",
        "result2 = is_palindrome(head_non_palindrome)\n",
        "print(f\"Is the list 1->2->3 a palindrome? {result2}\")\n",
        "# Expected Output: Is the list 1->2->3 a palindrome? False"
      ],
      "metadata": {
        "colab": {
          "base_uri": "https://localhost:8080/"
        },
        "id": "a1A_01VbQ9hm",
        "outputId": "cf104a63-5579-4c94-8263-c872a3834698"
      },
      "execution_count": 18,
      "outputs": [
        {
          "output_type": "stream",
          "name": "stdout",
          "text": [
            "Is the list 1->2->2->1 a palindrome? True\n",
            "Is the list 1->2->3 a palindrome? False\n"
          ]
        }
      ]
    },
    {
      "cell_type": "markdown",
      "source": [
        "### 11. Intersection of Two Linked Lists Example"
      ],
      "metadata": {
        "id": "sJB7sMj9RexJ"
      }
    },
    {
      "cell_type": "code",
      "source": [
        "# (Assuming ListNode class from the previous example is available)\n",
        "\n",
        "def get_intersection_node(headA: ListNode, headB: ListNode) -> ListNode:\n",
        "    pA, pB = headA, headB\n",
        "    while pA is not pB:\n",
        "        pA = headB if not pA else pA.next\n",
        "        pB = headA if not pB else pB.next\n",
        "    return pA\n",
        "\n",
        "# --- Example Execution ---\n",
        "\n",
        "# 1. Test with intersecting lists\n",
        "# Create the common tail: 8 -> 4 -> 5\n",
        "common_tail = ListNode(8, ListNode(4, ListNode(5)))\n",
        "\n",
        "# List A: 4 -> 1 -> 8 -> 4 -> 5\n",
        "headA = ListNode(4, ListNode(1, common_tail))\n",
        "\n",
        "# List B: 5 -> 6 -> 1 -> 8 -> 4 -> 5\n",
        "headB = ListNode(5, ListNode(6, ListNode(1, common_tail)))\n",
        "\n",
        "intersection_node = get_intersection_node(headA, headB)\n",
        "\n",
        "if intersection_node:\n",
        "    print(f\"Intersection found at node with value: {intersection_node.val}\")\n",
        "else:\n",
        "    print(\"No intersection found.\")\n",
        "# Expected Output: Intersection found at node with value: 8\n",
        "\n",
        "\n",
        "# 2. Test with non-intersecting lists\n",
        "# List C: 3 -> 2 -> 1\n",
        "headC = ListNode(3, ListNode(2, ListNode(1)))\n",
        "\n",
        "# List D: 6 -> 7\n",
        "headD = ListNode(6, ListNode(7))\n",
        "\n",
        "no_intersection_node = get_intersection_node(headC, headD)\n",
        "\n",
        "if no_intersection_node:\n",
        "    print(f\"Intersection found at node with value: {no_intersection_node.val}\")\n",
        "else:\n",
        "    print(\"No intersection found.\")\n",
        "# Expected Output: No intersection found."
      ],
      "metadata": {
        "colab": {
          "base_uri": "https://localhost:8080/"
        },
        "id": "L1MA7YjvRgwW",
        "outputId": "bafaaef6-c0ee-4dad-e259-ab8d07ec2714"
      },
      "execution_count": 20,
      "outputs": [
        {
          "output_type": "stream",
          "name": "stdout",
          "text": [
            "Intersection found at node with value: 8\n",
            "No intersection found.\n"
          ]
        }
      ]
    },
    {
      "cell_type": "markdown",
      "source": [
        "### 12. Top K Frequent Elements (Heap)"
      ],
      "metadata": {
        "id": "JJ8-PJJVRMls"
      }
    },
    {
      "cell_type": "code",
      "source": [
        "import heapq\n",
        "from collections import Counter\n",
        "\n",
        "def top_k_frequent(nums: list[int], k: int) -> list[int]:\n",
        "    if k == len(nums):\n",
        "        return nums\n",
        "\n",
        "    counts = Counter(nums)\n",
        "    return heapq.nlargest(k, counts.keys(), key=counts.get)\n",
        "\n",
        "# Example Usage\n",
        "print(top_k_frequent([1,1,1,2,2,3], 2)) # Output: [1, 2]"
      ],
      "metadata": {
        "colab": {
          "base_uri": "https://localhost:8080/"
        },
        "id": "FJQSdX0XRNhA",
        "outputId": "dec0152f-ec57-4f33-9749-45d02c3922ca"
      },
      "execution_count": 17,
      "outputs": [
        {
          "output_type": "stream",
          "name": "stdout",
          "text": [
            "[1, 2]\n"
          ]
        }
      ]
    }
  ]
}