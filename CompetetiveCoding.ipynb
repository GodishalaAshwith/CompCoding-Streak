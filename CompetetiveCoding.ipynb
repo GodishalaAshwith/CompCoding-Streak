{
  "nbformat": 4,
  "nbformat_minor": 0,
  "metadata": {
    "colab": {
      "provenance": [],
      "collapsed_sections": [
        "3mq48FNu-XRo",
        "ocHuSVSt-K7Z",
        "brPCMPwqDX3u",
        "HTb6GqsM-QL2",
        "2M9LcDhzDDE0"
      ],
      "authorship_tag": "ABX9TyPKM4h35TwDLAVCP84eXID/",
      "include_colab_link": true
    },
    "kernelspec": {
      "name": "python3",
      "display_name": "Python 3"
    },
    "language_info": {
      "name": "python"
    }
  },
  "cells": [
    {
      "cell_type": "markdown",
      "metadata": {
        "id": "view-in-github",
        "colab_type": "text"
      },
      "source": [
        "<a href=\"https://colab.research.google.com/github/GodishalaAshwith/CompCoding-Streak/blob/main/CompetetiveCoding.ipynb\" target=\"_parent\"><img src=\"https://colab.research.google.com/assets/colab-badge.svg\" alt=\"Open In Colab\"/></a>"
      ]
    },
    {
      "cell_type": "markdown",
      "source": [
        "##Binary Search\n"
      ],
      "metadata": {
        "id": "3mq48FNu-XRo"
      }
    },
    {
      "cell_type": "markdown",
      "source": [
        "###Find number of searches required to find out given page number in a text book, return -1 if not found"
      ],
      "metadata": {
        "id": "ocHuSVSt-K7Z"
      }
    },
    {
      "cell_type": "code",
      "source": [
        "pages = list(map(int,input(\"Enter number of pages: \").split()))\n",
        "page = int(input(\"Enter page: \"))\n",
        "\n",
        "def searches(pages):\n",
        "  low = 0\n",
        "  high = len(pages)-1\n",
        "  searches = 0\n",
        "  while low < high:\n",
        "    mid = (low+high)//2\n",
        "    searches+=1\n",
        "    if pages[mid]==page:\n",
        "      return searches\n",
        "    elif pages[mid]>page:\n",
        "      high = mid\n",
        "    else:\n",
        "      low = mid+1\n",
        "  return -1\n",
        "\n",
        "print(searches(pages))"
      ],
      "metadata": {
        "colab": {
          "base_uri": "https://localhost:8080/"
        },
        "id": "OvYcnNhIAn2g",
        "outputId": "da5ce6c3-cfc1-484f-c59f-f167d26f4c97"
      },
      "execution_count": null,
      "outputs": [
        {
          "output_type": "stream",
          "name": "stdout",
          "text": [
            "Enter number of pages: 1 2 3 5 6 7 8\n",
            "Enter page: 5\n",
            "1\n"
          ]
        }
      ]
    },
    {
      "cell_type": "markdown",
      "source": [
        "###Given an array contains n disctinct numbers taken from 0 to n, find the number that is missing from the array using Binary Search"
      ],
      "metadata": {
        "id": "brPCMPwqDX3u"
      }
    },
    {
      "cell_type": "code",
      "source": [
        "nums = list(map(int,input(\"Enter nums: \").split()))\n",
        "\n",
        "def binaryMissing(nums):\n",
        "  low = 0\n",
        "  high = len(nums) - 1\n",
        "  while low <= high:\n",
        "    mid = (low + high) // 2\n",
        "\n",
        "    if nums[mid] != mid:\n",
        "      if mid == 0 or nums[mid - 1] == mid - 1:\n",
        "        return mid\n",
        "      high = mid - 1\n",
        "    else:\n",
        "      low = mid + 1\n",
        "  return len(nums)\n",
        "\n",
        "print(binaryMissing(nums))"
      ],
      "metadata": {
        "colab": {
          "base_uri": "https://localhost:8080/"
        },
        "id": "7EtxAjV4DmNm",
        "outputId": "7290beab-9990-4592-fc80-c3e7f6bbf725"
      },
      "execution_count": null,
      "outputs": [
        {
          "output_type": "stream",
          "name": "stdout",
          "text": [
            "Enter nums: 0 1 2 3 4 5 7 8 9\n",
            "6\n"
          ]
        }
      ]
    },
    {
      "cell_type": "markdown",
      "source": [
        "###Given an array of n integers every num in the array except one appears twice, find the single num in the array"
      ],
      "metadata": {
        "id": "3d82Yar-FAs2"
      }
    },
    {
      "cell_type": "code",
      "metadata": {
        "colab": {
          "base_uri": "https://localhost:8080/"
        },
        "id": "8be098ab",
        "outputId": "b1e5f75c-407b-4cdf-889f-04f992ebf666"
      },
      "source": [
        "nums = list(map(int,input(\"Enter nums: \").split()))\n",
        "\n",
        "def binarySingle(nums):\n",
        "    low = 0\n",
        "    high = len(nums) - 1\n",
        "    while low < high:\n",
        "        mid = (low + high) // 2\n",
        "        if mid % 2 == 1:\n",
        "            if nums[mid] == nums[mid - 1]:\n",
        "                low = mid + 1\n",
        "            else:\n",
        "                high = mid - 1\n",
        "        else:\n",
        "            if nums[mid] == nums[mid + 1]:\n",
        "                low = mid + 2\n",
        "            else:\n",
        "                high = mid\n",
        "\n",
        "    return nums[low]\n",
        "\n",
        "print(binarySingle(nums))"
      ],
      "execution_count": null,
      "outputs": [
        {
          "output_type": "stream",
          "name": "stdout",
          "text": [
            "Enter nums: 1 2 2 3 3 4 4\n",
            "1\n"
          ]
        }
      ]
    },
    {
      "cell_type": "code",
      "source": [
        "# low,high = map(int,input().split())\n",
        "# arr = list(map(int,input().split()))\n",
        "\n",
        "low,high = 0 ,10\n",
        "arr = [0, 1, 5, 8, 9]\n",
        "for i in range(low,high):\n",
        "  if i in arr:\n",
        "    continue\n",
        "  else:\n",
        "    print(i,end=\" \")"
      ],
      "metadata": {
        "colab": {
          "base_uri": "https://localhost:8080/"
        },
        "id": "bE0ZQTVC0M9_",
        "outputId": "e912a121-eaf8-4f8f-dad3-6e99c6764ed4"
      },
      "execution_count": null,
      "outputs": [
        {
          "output_type": "stream",
          "name": "stdout",
          "text": [
            "2 3 4 6 7 "
          ]
        }
      ]
    },
    {
      "cell_type": "code",
      "source": [],
      "metadata": {
        "id": "Bn6bwiSvChMK"
      },
      "execution_count": null,
      "outputs": []
    },
    {
      "cell_type": "code",
      "source": [
        "class Solution:\n",
        "    def findDisappearedNumbers(self, nums: List[int]) -> List[int]:\n",
        "        frq = Counter(nums)\n",
        "        res = []\n",
        "        for i in range(1,len(nums)+1):\n",
        "            if frq[i]==0:\n",
        "                res.append(i)\n",
        "        return res"
      ],
      "metadata": {
        "id": "p9SNUGz04YXL"
      },
      "execution_count": null,
      "outputs": []
    },
    {
      "cell_type": "code",
      "source": [
        "\"\"\"\n",
        "  1 . Chocolate Distributation: Given an array of n integers where each value represents the number of chocolates in a packet,\n",
        "  each packet can have a variable number of chocolates, there are m studenst,\n",
        "  The task is to distribute chocolate packets such that\n",
        "  i - each student gets one packet\n",
        "  ii - The difference between the number of chocolates in the packet with max chocolates and packet with min chocolates given to the students is min\n",
        "\n",
        "  2. Write a Program to reverse a stack elements using recursion, without using any loop or any other temp stack,\n",
        "  3. Given a stack of integers sort it in ascending order using another temp stack\n",
        "  4. what are the possible outcomes of stack after applying sequence of push operations in input sequence 1 2 3 4  in that order only,\n",
        "  pop can be executed any point of time, aka stack permutations\n",
        "\"\"\""
      ],
      "metadata": {
        "id": "c4-bkprs2iqr"
      },
      "execution_count": null,
      "outputs": []
    },
    {
      "cell_type": "code",
      "metadata": {
        "colab": {
          "base_uri": "https://localhost:8080/"
        },
        "id": "0f7d6c74",
        "outputId": "d138438f-1b84-41a8-b868-52818c935177"
      },
      "source": [
        "\"\"\"\n",
        "  1 . Chocolate Distributation: Given an array of n integers where each value represents the number of chocolates in a packet,\n",
        "  each packet can have a variable number of chocolates, there are m studenst,\n",
        "  The task is to distribute chocolate packets such that\n",
        "  i - each student gets one packet\n",
        "  ii - The difference between the number of chocolates in the packet with max chocolates and packet with min chocolates given to the students is min\n",
        "\"\"\"\n",
        "def chocolate_distribution(packets, m):\n",
        "    if m > len(packets):\n",
        "        return -1\n",
        "\n",
        "    # Sort the packets in ascending order\n",
        "    packets.sort()\n",
        "\n",
        "    min_diff = float('inf')\n",
        "\n",
        "    # Iterate through the sorted packets and find the minimum difference\n",
        "    for i in range(len(packets) - m + 1):\n",
        "        diff = packets[i + m - 1] - packets[i]\n",
        "        min_diff = min(min_diff, diff)\n",
        "\n",
        "    return min_diff\n",
        "\n",
        "# Test case\n",
        "packets = [12, 4, 7, 9, 2, 23, 25, 41, 30, 40, 28, 42, 30, 44, 48, 43, 50]\n",
        "m = 7\n",
        "print(f\"Minimum difference: {chocolate_distribution(packets, m)}\")"
      ],
      "execution_count": null,
      "outputs": [
        {
          "output_type": "stream",
          "name": "stdout",
          "text": [
            "Minimum difference: 10\n"
          ]
        }
      ]
    },
    {
      "cell_type": "code",
      "source": [
        "#2. Write a Program to reverse a stack elements using recursion, without using any loop or any other temp stack\n",
        "stk = [1, 2, 3, 4, 5, 6]\n",
        "\n",
        "def revStack(stk):\n",
        "    n = len(stk)\n",
        "    stk.extend([None] * n)\n",
        "\n",
        "    def fill_reverse(i):\n",
        "        if i < 0:\n",
        "            return\n",
        "        stk[2*n - i - 1] = stk[i]\n",
        "        fill_reverse(i - 1)\n",
        "\n",
        "    fill_reverse(n - 1)\n",
        "\n",
        "    del stk[:n]\n",
        "\n",
        "# Example usage\n",
        "revStack(stk)\n",
        "print(stk)\n"
      ],
      "metadata": {
        "colab": {
          "base_uri": "https://localhost:8080/"
        },
        "id": "RbPubCo9-v11",
        "outputId": "2c7118b4-f9d8-4cb7-ebb4-69c4ce89881b"
      },
      "execution_count": null,
      "outputs": [
        {
          "output_type": "stream",
          "name": "stdout",
          "text": [
            "[6, 5, 4, 3, 2, 1]\n"
          ]
        }
      ]
    },
    {
      "cell_type": "code",
      "source": [
        "#3. Given a stack of integers sort it in ascending order using another temp stack\n",
        "stk = [4,3,23,1,2]\n",
        "def stksort(stk):\n",
        "  temp_stk = []\n",
        "  while stk:\n",
        "    temp = stk.pop()\n",
        "    while temp_stk and temp_stk[-1] > temp:\n",
        "      stk.append(temp_stk.pop())\n",
        "    temp_stk.append(temp)\n",
        "  while temp_stk:\n",
        "    stk.append(temp_stk.pop())\n",
        "  return stk\n",
        "\n",
        "print(stksort(stk))"
      ],
      "metadata": {
        "colab": {
          "base_uri": "https://localhost:8080/"
        },
        "id": "sVThM1rxFiFP",
        "outputId": "57624f7c-34fd-47c2-b403-24c637f77e5f"
      },
      "execution_count": null,
      "outputs": [
        {
          "output_type": "stream",
          "name": "stdout",
          "text": [
            "[23, 4, 3, 2, 1]\n"
          ]
        }
      ]
    },
    {
      "cell_type": "code",
      "metadata": {
        "colab": {
          "base_uri": "https://localhost:8080/"
        },
        "id": "bd6133a8",
        "outputId": "a680dbf2-260f-4ba3-d743-d9400c774515"
      },
      "source": [
        "\"\"\"\n",
        "4. what are the possible outcomes of stack after applying sequence of push operations in input sequence 1 2 3 4  in that order only,\n",
        "  pop can be executed any point of time, aka stack permutations\n",
        "\"\"\"\n",
        "def insert_at_bottom(stack, item):\n",
        "  \"\"\"Inserts an item at the bottom of a stack using recursion.\"\"\"\n",
        "  if not stack:\n",
        "    stack.append(item)\n",
        "  else:\n",
        "    temp = stack.pop()\n",
        "    insert_at_bottom(stack, item)\n",
        "    stack.append(temp)\n",
        "\n",
        "def reverse_stack(stack):\n",
        "  \"\"\"Reverses a stack using recursion.\"\"\"\n",
        "  if not stack:\n",
        "    return\n",
        "  else:\n",
        "    temp = stack.pop()\n",
        "    reverse_stack(stack)\n",
        "    insert_at_bottom(stack, temp)\n",
        "\n",
        "# Test case\n",
        "stk = [1, 2, 3, 4, 5]\n",
        "print(f\"Original stack: {stk}\")\n",
        "reverse_stack(stk)\n",
        "print(f\"Reversed stack: {stk}\")\n",
        "\n",
        "stk = [6, 5, 4, 3, 2, 1]\n",
        "print(f\"Original stack: {stk}\")\n",
        "reverse_stack(stk)\n",
        "print(f\"Reversed stack: {stk}\")"
      ],
      "execution_count": null,
      "outputs": [
        {
          "output_type": "stream",
          "name": "stdout",
          "text": [
            "Original stack: [1, 2, 3, 4, 5]\n",
            "Reversed stack: [5, 4, 3, 2, 1]\n",
            "Original stack: [6, 5, 4, 3, 2, 1]\n",
            "Reversed stack: [1, 2, 3, 4, 5, 6]\n"
          ]
        }
      ]
    },
    {
      "cell_type": "markdown",
      "source": [
        "# Bitwise"
      ],
      "metadata": {
        "id": "svOBm0b9UnC1"
      }
    },
    {
      "cell_type": "code",
      "source": [
        "\"\"\"\n",
        "1. Given an array where every element repeats twice except one element by using bitwise operator (^)\n",
        "2. Swap two numbers without temp variables by using bitwise operators (^)\n",
        "3. Given an array containing n distinct numbers taken from 0 to n , find the single number that is missing from the array (^)\n",
        "4. Count the number of 1s in binary representation of an integer using bitwise operator.\n",
        "5. Multiply two numbers using bitwise operators\n",
        "\"\"\""
      ],
      "metadata": {
        "colab": {
          "base_uri": "https://localhost:8080/",
          "height": 70
        },
        "id": "Tr-esqKA79Bz",
        "outputId": "63096d32-8f60-4782-d91b-79fbdfed03e4"
      },
      "execution_count": null,
      "outputs": [
        {
          "output_type": "execute_result",
          "data": {
            "text/plain": [
              "' \\n1. Given an array where every element repeats twice except one element by using bitwise operator (^)\\n2. Swap two numbers without temp variables by using bitwise operators (^)\\n3. Given an array containing n distinct numbers taken from 0 to n , find the single number that is missing from the array (^)\\n4. Count the number of 1s in binary representation of an integer using bitwise operator.\\n5. Multiply two numbers using bitwise operators\\n'"
            ],
            "application/vnd.google.colaboratory.intrinsic+json": {
              "type": "string"
            }
          },
          "metadata": {},
          "execution_count": 3
        }
      ]
    },
    {
      "cell_type": "code",
      "source": [
        "#1.Given an array where every element repeats twice except one element by using bitwise operator.\n",
        "\n",
        "def singleNum(arr):\n",
        "  res = 0\n",
        "  for i in arr:\n",
        "    res ^=i\n",
        "  return res\n",
        "\n",
        "arr = [1,1,2,2,3,3,4,5,5]\n",
        "print(singleNum(arr))"
      ],
      "metadata": {
        "colab": {
          "base_uri": "https://localhost:8080/"
        },
        "id": "ZNSYRyLA9_qV",
        "outputId": "9e829a4f-6bf9-4fcc-d23e-92a72e65d087"
      },
      "execution_count": null,
      "outputs": [
        {
          "output_type": "stream",
          "name": "stdout",
          "text": [
            "4\n"
          ]
        }
      ]
    },
    {
      "cell_type": "code",
      "source": [
        "#2. Swap two numbers without temp variables by using bitwise operators.\n",
        "def swapBitwise(a,b):\n",
        "  a = a^b\n",
        "  b = a^b\n",
        "  a = a^b\n",
        "  return a,b\n",
        "\n",
        "a = 3\n",
        "b = 5\n",
        "a,b = swapBitwise(a,b)\n",
        "print(a,b)"
      ],
      "metadata": {
        "colab": {
          "base_uri": "https://localhost:8080/"
        },
        "id": "ol3MOpiY-aWy",
        "outputId": "482c7ffc-c886-4508-f940-b9d6be0f2656"
      },
      "execution_count": null,
      "outputs": [
        {
          "output_type": "stream",
          "name": "stdout",
          "text": [
            "5 3\n"
          ]
        }
      ]
    },
    {
      "cell_type": "code",
      "source": [
        "\"\"\"\n",
        "3. Given an array containing n distinct numbers taken from 0 to n , find the single number that is missing from the array (^)\n",
        "\"\"\"\n",
        "def findMissingNumber(nums):\n",
        "  n = len(nums)\n",
        "  xor_range = 0\n",
        "  for i in range(n + 1):\n",
        "    xor_range ^= i\n",
        "\n",
        "  xor_nums = 0\n",
        "  for num in nums:\n",
        "    xor_nums ^= num\n",
        "\n",
        "  return xor_range ^ xor_nums\n",
        "\n",
        "# Test case\n",
        "nums = [0, 1, 2, 4, 5]\n",
        "print(f\"The missing number is: {findMissingNumber(nums)}\")"
      ],
      "metadata": {
        "colab": {
          "base_uri": "https://localhost:8080/"
        },
        "id": "K4nNXNyjTUpT",
        "outputId": "e432e9fe-bb16-4c19-eb53-061bf82dba7d"
      },
      "execution_count": null,
      "outputs": [
        {
          "output_type": "stream",
          "name": "stdout",
          "text": [
            "The missing number is: 3\n"
          ]
        }
      ]
    },
    {
      "cell_type": "code",
      "source": [
        "\"\"\"\n",
        "4. Count the number of 1s in binary representation of an integer using bitwise operator.\n",
        "Best Time and space complexity\n",
        "\"\"\"\n",
        "def countSetBits(n):\n",
        "    count = 0\n",
        "    while n > 0:\n",
        "        n &= (n - 1)\n",
        "        count += 1\n",
        "    return count\n",
        "\n",
        "# Test cases\n",
        "num1 = 15 # Binary: 1111\n",
        "print(f\"Number of set bits in 15: {countSetBits(num1)}\")"
      ],
      "metadata": {
        "colab": {
          "base_uri": "https://localhost:8080/"
        },
        "id": "Oy-YfT_c8v3U",
        "outputId": "a8036d68-34f2-49a0-d039-8d44490f1e3a"
      },
      "execution_count": null,
      "outputs": [
        {
          "output_type": "stream",
          "name": "stdout",
          "text": [
            "Number of set bits in 15: 4\n"
          ]
        }
      ]
    },
    {
      "cell_type": "code",
      "source": [
        "\"\"\"\n",
        "5. Multiply two numbers using bitwise operators\n",
        "\"\"\"\n",
        "def multiplyBitwise(a, b):\n",
        "    result = 0\n",
        "    while b != 0:\n",
        "        if (b & 1) == 1:\n",
        "            result += a\n",
        "        a <<= 1\n",
        "        b >>= 1\n",
        "\n",
        "    return result\n",
        "\n",
        "# Test cases\n",
        "num1 = 5\n",
        "num2 = 4\n",
        "print(f\"{num1} * {num2} = {multiplyBitwise(num1, num2)}\")"
      ],
      "metadata": {
        "id": "M1trTcaS9CRr",
        "colab": {
          "base_uri": "https://localhost:8080/"
        },
        "outputId": "10b78ea6-aaa7-4f32-b4ba-57d27a135d8a"
      },
      "execution_count": null,
      "outputs": [
        {
          "output_type": "stream",
          "name": "stdout",
          "text": [
            "5 * 4 = 20\n"
          ]
        }
      ]
    },
    {
      "cell_type": "markdown",
      "source": [
        "#"
      ],
      "metadata": {
        "id": "HTb6GqsM-QL2"
      }
    },
    {
      "cell_type": "code",
      "source": [
        "#WAP to implement queue using 2 stks\n",
        "#Write a program to implement stack using single queue\n",
        "#Construction of binary tree from inorder preorder postorder sequences\n",
        "#Find out min number of swaps required to convert Binary tree into a Binary Search tree\n",
        "#Find out if two trees are identical or not"
      ],
      "metadata": {
        "id": "mCySAKTyAUlP"
      },
      "execution_count": null,
      "outputs": []
    },
    {
      "cell_type": "markdown",
      "source": [
        "##1."
      ],
      "metadata": {
        "id": "2M9LcDhzDDE0"
      }
    },
    {
      "cell_type": "code",
      "source": [
        "#WAP to implement queue using 2 stks\n",
        "class Stack:\n",
        "    def __init__(self, n):\n",
        "        self.size = n\n",
        "        self.items = [None] * n\n",
        "        self.top = -1\n",
        "\n",
        "    def push(self, ele):\n",
        "        if self.top == self.size - 1:\n",
        "            print(\"Stack is full\")\n",
        "        else:\n",
        "            self.top += 1\n",
        "            self.items[self.top] = ele\n",
        "\n",
        "    def pop(self):\n",
        "        if self.top == -1:\n",
        "            print(\"Stack is empty\")\n",
        "            return None\n",
        "        else:\n",
        "            popped = self.items[self.top]\n",
        "            self.top -= 1\n",
        "            return popped\n",
        "\n",
        "    def peek(self):\n",
        "        return self.items[self.top] if self.top != -1 else None\n",
        "\n",
        "    def is_empty(self):\n",
        "        return self.top == -1\n",
        "\n",
        "    def display(self):\n",
        "        if self.top == -1:\n",
        "            print(\"Stack is empty\")\n",
        "        else:\n",
        "            print(self.items[:self.top + 1])\n",
        "\n",
        "class QueueUsingTwoStacks:\n",
        "    def __init__(self, size):\n",
        "        self.input_stack = Stack(size)\n",
        "        self.output_stack = Stack(size)\n",
        "\n",
        "    def enqueue(self, element):\n",
        "        self.input_stack.push(element)\n",
        "\n",
        "    def dequeue(self):\n",
        "        if self.output_stack.is_empty():\n",
        "            while not self.input_stack.is_empty():\n",
        "                self.output_stack.push(self.input_stack.pop())\n",
        "\n",
        "        if self.output_stack.is_empty():\n",
        "            print(\"Queue is empty\")\n",
        "            return None\n",
        "        return self.output_stack.pop()\n",
        "\n",
        "    def peek(self):\n",
        "        if self.output_stack.is_empty():\n",
        "            while not self.input_stack.is_empty():\n",
        "                self.output_stack.push(self.input_stack.pop())\n",
        "\n",
        "        if self.output_stack.is_empty():\n",
        "            print(\"Queue is empty\")\n",
        "            return None\n",
        "        while not self.output_stack.is_empty():\n",
        "            self.input_stack.push(self.output_stack.pop())\n",
        "        return self.output_stack.peek()\n",
        "\n",
        "\n",
        "\n",
        "    def display(self):\n",
        "        queue_elements = []\n",
        "\n",
        "        while not self.output_stack.is_empty():\n",
        "            queue_elements.append(self.output_stack.pop())\n",
        "\n",
        "        temp_elements = self.input_stack.items[:self.input_stack.top + 1]\n",
        "        queue_elements.extend(reversed(temp_elements))\n",
        "\n",
        "        if queue_elements:\n",
        "            print(\"Queue:\", queue_elements)\n",
        "        else:\n",
        "            print(\"Queue is empty\")\n",
        "\n",
        "\n",
        "queue = QueueUsingTwoStacks(5)\n",
        "\n",
        "queue.enqueue(10)\n",
        "queue.enqueue(20)\n",
        "queue.enqueue(30)\n",
        "queue.display()\n",
        "\n",
        "print(\"Dequeued:\", queue.dequeue())\n",
        "queue.display()\n",
        "\n",
        "print(\"Front element:\", queue.peek())\n",
        "\n",
        "queue.enqueue(40)\n",
        "queue.display()\n",
        "\n",
        "print(\"Dequeued:\", queue.dequeue())\n",
        "print(\"Dequeued:\", queue.dequeue())\n",
        "queue.display()\n"
      ],
      "metadata": {
        "colab": {
          "base_uri": "https://localhost:8080/"
        },
        "id": "id_aWVKDAZ_f",
        "outputId": "8ca3dd1b-adf5-455e-c052-7857bd9721cc"
      },
      "execution_count": null,
      "outputs": [
        {
          "output_type": "stream",
          "name": "stdout",
          "text": [
            "Queue: [30, 20, 10]\n",
            "Dequeued: 10\n",
            "Queue: [20, 30]\n",
            "Queue is empty\n",
            "Front element: None\n",
            "Queue: [40]\n",
            "Dequeued: 40\n",
            "Queue is empty\n",
            "Dequeued: None\n",
            "Queue is empty\n"
          ]
        }
      ]
    },
    {
      "cell_type": "markdown",
      "source": [
        "##2."
      ],
      "metadata": {
        "id": "aLr-BNtlDF20"
      }
    },
    {
      "cell_type": "code",
      "source": [
        "#2.Write a program to implement stack using single queue\n",
        "class SingleQueue:\n",
        "    def __init__(self, size):\n",
        "        self.size = size\n",
        "        self.queue = [None] * self.size\n",
        "        self.front = 0\n",
        "        self.rear = -1\n",
        "        self.current_size = 0\n",
        "\n",
        "    def insert(self, ele):\n",
        "        if self.current_size == self.size:  # Check if the queue is full\n",
        "            print(\"Queue is full\")\n",
        "        else:\n",
        "            self.rear = (self.rear + 1) % self.size  # Circular increment\n",
        "            self.queue[self.rear] = ele\n",
        "            self.current_size += 1\n",
        "\n",
        "    def delete(self):\n",
        "        if self.current_size == 0:  # Check if the queue is empty\n",
        "            print(\"Queue is empty\")\n",
        "            return None\n",
        "        else:\n",
        "            temp = self.queue[self.front]\n",
        "            self.front = (self.front + 1) % self.size  # Circular increment\n",
        "            self.current_size -= 1\n",
        "            return temp\n",
        "\n",
        "    def is_empty(self):\n",
        "        return self.current_size == 0\n",
        "\n",
        "    def display(self):\n",
        "        if self.is_empty():\n",
        "            print(\"Queue is empty\")\n",
        "        else:\n",
        "            index = self.front\n",
        "            elements = []\n",
        "            for _ in range(self.current_size):\n",
        "                elements.append(self.queue[index])\n",
        "                index = (index + 1) % self.size\n",
        "            print(\"Queue:\", elements)\n",
        "\n",
        "\n",
        "class Stack:\n",
        "    def __init__(self, queue):\n",
        "        self.queue = queue\n",
        "\n",
        "    def push(self, ele):\n",
        "        # Insert element into the queue\n",
        "        self.queue.insert(ele)\n",
        "\n",
        "        # Rotate all previous elements to the back to maintain stack order\n",
        "        for _ in range(self.queue.current_size - 1):\n",
        "            temp = self.queue.delete()\n",
        "            self.queue.insert(temp)\n",
        "\n",
        "    def pop(self):\n",
        "        # Remove the front element (top of the stack)\n",
        "        if self.queue.is_empty():\n",
        "            print(\"Stack is empty\")\n",
        "            return None\n",
        "        return self.queue.delete()\n",
        "\n",
        "    def display(self):\n",
        "        self.queue.display()\n",
        "\n",
        "\n",
        "# Example Usage\n",
        "sQ = SingleQueue(5)  # Create a queue of size 5\n",
        "sT = Stack(sQ)       # Use the queue to implement a stack\n",
        "\n",
        "# Perform stack operations\n",
        "sT.push(5)\n",
        "sT.push(10)\n",
        "sT.push(15)\n",
        "sT.display()  # Output: Stack: [15, 10, 5]\n",
        "\n",
        "print(\"Popped:\", sT.pop())  # Output: 15\n",
        "sT.display()  # Output: Stack: [10, 5]\n",
        "\n",
        "sT.push(20)\n",
        "sT.display()  # Output: Stack: [20, 10, 5]\n"
      ],
      "metadata": {
        "id": "qq_2mUDsCyRt",
        "colab": {
          "base_uri": "https://localhost:8080/"
        },
        "outputId": "8f3cc072-5916-4aaf-d9ff-fdfb4b2d5d23"
      },
      "execution_count": null,
      "outputs": [
        {
          "output_type": "stream",
          "name": "stdout",
          "text": [
            "Queue: [15, 10, 5]\n",
            "Popped: 15\n",
            "Queue: [10, 5]\n",
            "Queue: [20, 10, 5]\n"
          ]
        }
      ]
    },
    {
      "cell_type": "markdown",
      "source": [
        "##3."
      ],
      "metadata": {
        "id": "y2CkiMnXDMnV"
      }
    },
    {
      "cell_type": "code",
      "source": [
        "#3. Construction of binary tree from inorder preorder postorder sequences\n"
      ],
      "metadata": {
        "id": "o3GejltNDAC1"
      },
      "execution_count": null,
      "outputs": []
    },
    {
      "cell_type": "markdown",
      "source": [
        "##4."
      ],
      "metadata": {
        "id": "qXipR-qEDOw1"
      }
    },
    {
      "cell_type": "code",
      "source": [],
      "metadata": {
        "id": "PUV_AqqVDPs8"
      },
      "execution_count": null,
      "outputs": []
    },
    {
      "cell_type": "markdown",
      "source": [
        "#"
      ],
      "metadata": {
        "id": "ITzGeCgjIWY3"
      }
    },
    {
      "cell_type": "markdown",
      "source": [
        "Check cycles in directed and undirected graph using dfs and bfs\n",
        "\n",
        "Given a matrix of dimension mxn where each cell in the matrix can have values 0 1 or 2 which has the following meaning\n",
        "0 - empty cell\n",
        "1 - Cell has fresh oranges\n",
        "2 - Cell has rotten oranges\n",
        "Find the min no of days required for all oranges to rot, a rotten orange can rot other fresh oranges which are its neighbours\n",
        "If it is impossible to rot all oranges then return -1\n"
      ],
      "metadata": {
        "id": "hOuyDEOqIYif"
      }
    },
    {
      "cell_type": "code",
      "source": [
        "def is_cyclic_undirected_dfs(graph):\n",
        "    visited = set()\n",
        "\n",
        "    def dfs(node, parent):\n",
        "        visited.add(node)\n",
        "        for neighbor in graph[node]:\n",
        "            if neighbor not in visited:\n",
        "                if dfs(neighbor, node):\n",
        "                    return True\n",
        "            elif neighbor != parent:\n",
        "                return True\n",
        "        return False\n",
        "\n",
        "    for node in graph:\n",
        "        if node not in visited:\n",
        "            if dfs(node, -1):\n",
        "                return True\n",
        "    return False\n",
        "\n",
        "graph_undirected_dfs = {\n",
        "    0: [1, 2],\n",
        "    1: [0, 2],\n",
        "    2: [0, 1, 3],\n",
        "    3: [2]\n",
        "}\n",
        "print(f\"Undirected graph DFS has cycle: {is_cyclic_undirected_dfs(graph_undirected_dfs)}\")\n",
        "\n",
        "graph_undirected_dfs_no_cycle = {\n",
        "    0: [1],\n",
        "    1: [0, 2],\n",
        "    2: [1]\n",
        "}\n",
        "print(f\"Undirected graph DFS has cycle: {is_cyclic_undirected_dfs(graph_undirected_dfs_no_cycle)}\")"
      ],
      "metadata": {
        "colab": {
          "base_uri": "https://localhost:8080/"
        },
        "id": "6RSD2kmvI7e-",
        "outputId": "6abf8443-327d-4b1c-c613-6f4288757e39"
      },
      "execution_count": null,
      "outputs": [
        {
          "output_type": "stream",
          "name": "stdout",
          "text": [
            "Undirected graph DFS has cycle: True\n",
            "Undirected graph DFS has cycle: False\n"
          ]
        }
      ]
    },
    {
      "cell_type": "code",
      "source": [
        "from collections import deque\n",
        "\n",
        "def is_cyclic_undirected_bfs(graph):\n",
        "    visited = set()\n",
        "    queue = deque()\n",
        "\n",
        "    for node in graph:\n",
        "        if node not in visited:\n",
        "            queue.append((node, -1))\n",
        "            visited.add(node)\n",
        "\n",
        "            while queue:\n",
        "                current_node, parent_node = queue.popleft()\n",
        "\n",
        "                for neighbor in graph.get(current_node, []):\n",
        "                    if neighbor not in visited:\n",
        "                        visited.add(neighbor)\n",
        "                        queue.append((neighbor, current_node))\n",
        "                    elif neighbor != parent_node:\n",
        "                        return True\n",
        "\n",
        "    return False\n",
        "\n",
        "graph_undirected_bfs = {\n",
        "    0: [1, 2],\n",
        "    1: [0, 2],\n",
        "    2: [0, 1, 3],\n",
        "    3: [2]\n",
        "}\n",
        "print(f\"Undirected graph BFS has cycle: {is_cyclic_undirected_bfs(graph_undirected_bfs)}\")\n",
        "\n",
        "graph_undirected_bfs_no_cycle = {\n",
        "    0: [1],\n",
        "    1: [0, 2],\n",
        "    2: [1]\n",
        "}\n",
        "print(f\"Undirected graph BFS has cycle: {is_cyclic_undirected_bfs(graph_undirected_bfs_no_cycle)}\")"
      ],
      "metadata": {
        "colab": {
          "base_uri": "https://localhost:8080/"
        },
        "id": "YppWKO_bJdpv",
        "outputId": "e920d64b-204d-4509-8db4-59549fd0c376"
      },
      "execution_count": null,
      "outputs": [
        {
          "output_type": "stream",
          "name": "stdout",
          "text": [
            "Undirected graph BFS has cycle: True\n",
            "Undirected graph BFS has cycle: False\n"
          ]
        }
      ]
    },
    {
      "cell_type": "code",
      "source": [
        "from collections import defaultdict\n",
        "\n",
        "def is_cyclic_directed_dfs(graph):\n",
        "    visited = set()\n",
        "    recursion_stack = set()\n",
        "\n",
        "    def dfs(node):\n",
        "        visited.add(node)\n",
        "        recursion_stack.add(node)\n",
        "\n",
        "        for neighbor in graph.get(node, []):\n",
        "            if neighbor not in visited:\n",
        "                if dfs(neighbor):\n",
        "                    return True\n",
        "            elif neighbor in recursion_stack:\n",
        "                return True\n",
        "\n",
        "        recursion_stack.remove(node)\n",
        "        return False\n",
        "\n",
        "    for node in graph:\n",
        "        if node not in visited:\n",
        "            if dfs(node):\n",
        "                return True\n",
        "    return False\n",
        "\n",
        "graph_directed_dfs = {\n",
        "    0: [1],\n",
        "    1: [2],\n",
        "    2: [0, 3],\n",
        "    3: []\n",
        "}\n",
        "print(f\"Directed graph DFS has cycle: {is_cyclic_directed_dfs(graph_directed_dfs)}\")\n",
        "\n",
        "graph_directed_dfs_no_cycle = {\n",
        "    0: [1, 2],\n",
        "    1: [2],\n",
        "    2: [3],\n",
        "    3: []\n",
        "}\n",
        "print(f\"Directed graph DFS has cycle: {is_cyclic_directed_dfs(graph_directed_dfs_no_cycle)}\")"
      ],
      "metadata": {
        "colab": {
          "base_uri": "https://localhost:8080/"
        },
        "id": "hH34AP4iJiKu",
        "outputId": "f12b8008-6118-456d-af71-19a3ebd3a09e"
      },
      "execution_count": null,
      "outputs": [
        {
          "output_type": "stream",
          "name": "stdout",
          "text": [
            "Directed graph DFS has cycle: True\n",
            "Directed graph DFS has cycle: False\n"
          ]
        }
      ]
    },
    {
      "cell_type": "code",
      "source": [
        "from collections import deque\n",
        "\n",
        "def is_cyclic_directed_bfs(graph):\n",
        "    in_degree = defaultdict(int)\n",
        "    for node in graph:\n",
        "        for neighbor in graph.get(node, []):\n",
        "            in_degree[neighbor] += 1\n",
        "\n",
        "    queue = deque()\n",
        "    for node in graph:\n",
        "        if in_degree[node] == 0:\n",
        "            queue.append(node)\n",
        "\n",
        "    count = 0\n",
        "    while queue:\n",
        "        node = queue.popleft()\n",
        "        count += 1\n",
        "        for neighbor in graph.get(node, []):\n",
        "            in_degree[neighbor] -= 1\n",
        "            if in_degree[neighbor] == 0:\n",
        "                queue.append(neighbor)\n",
        "\n",
        "    return count != len(graph)\n",
        "\n",
        "graph_directed_bfs = {\n",
        "    0: [1],\n",
        "    1: [2],\n",
        "    2: [0, 3],\n",
        "    3: []\n",
        "}\n",
        "print(f\"Directed graph BFS has cycle: {is_cyclic_directed_bfs(graph_directed_bfs)}\")\n",
        "\n",
        "graph_directed_bfs_no_cycle = {\n",
        "    0: [1, 2],\n",
        "    1: [2],\n",
        "    2: [3],\n",
        "    3: []\n",
        "}\n",
        "print(f\"Directed graph BFS has cycle: {is_cyclic_directed_bfs(graph_directed_bfs_no_cycle)}\")"
      ],
      "metadata": {
        "colab": {
          "base_uri": "https://localhost:8080/"
        },
        "id": "QWOUexQqJk2_",
        "outputId": "6c612de6-c2e4-45d4-dfe1-96760a41d813"
      },
      "execution_count": null,
      "outputs": [
        {
          "output_type": "stream",
          "name": "stdout",
          "text": [
            "Directed graph BFS has cycle: True\n",
            "Directed graph BFS has cycle: False\n"
          ]
        }
      ]
    },
    {
      "cell_type": "markdown",
      "source": [
        " Given a matrix of dimension mxn where each cell in the matrix can have values 0 1 or 2 which has the following meaning 0 - empty cell 1 - Cell has fresh oranges 2 - Cell has rotten oranges Find the min no of days required for all oranges to rot, a rotten orange can rot other fresh oranges which are its neighbours If it is impossible to rot all oranges then return -1"
      ],
      "metadata": {
        "id": "_Q8n8D2EtSGZ"
      }
    },
    {
      "cell_type": "code",
      "source": [
        "class Solution:\n",
        "    def orangesRotting(self, grid: List[List[int]]) -> int:\n",
        "        n, m = len(grid), len(grid[0])\n",
        "        num_fresh = 0\n",
        "        q = collections.deque()\n",
        "        for i in range(n):\n",
        "            for j in range(m):\n",
        "                num_fresh += (grid[i][j] == 1)\n",
        "                if grid[i][j] == 2:\n",
        "                    q.append((i, j))\n",
        "\n",
        "        ans = 0\n",
        "        while q and num_fresh > 0:\n",
        "            ans += 1\n",
        "            to_add = []\n",
        "            while q:\n",
        "                i, j = q.popleft()\n",
        "                for x,y in [(0, 1), (0, -1), (1, 0), (-1, 0)]:\n",
        "                    if i+x >= 0 and i+x < n and j+y>=0 and j+y<m and grid[i+x][j+y] == 1:\n",
        "                        grid[i+x][j+y] = 2\n",
        "                        num_fresh -= 1\n",
        "                        to_add.append((i+x, j+y))\n",
        "            q.extend(to_add)\n",
        "\n",
        "        return -1 if num_fresh > 0 else ans\n"
      ],
      "metadata": {
        "id": "GVUnIPeCJlUW",
        "colab": {
          "base_uri": "https://localhost:8080/",
          "height": 332
        },
        "outputId": "6c78a4fe-4c16-4dbd-d4b1-2c6f8518d0d0"
      },
      "execution_count": null,
      "outputs": [
        {
          "output_type": "error",
          "ename": "NameError",
          "evalue": "name 'List' is not defined",
          "traceback": [
            "\u001b[0;31m---------------------------------------------------------------------------\u001b[0m",
            "\u001b[0;31mNameError\u001b[0m                                 Traceback (most recent call last)",
            "\u001b[0;32m/tmp/ipython-input-1875361041.py\u001b[0m in \u001b[0;36m<cell line: 0>\u001b[0;34m()\u001b[0m\n\u001b[0;32m----> 1\u001b[0;31m \u001b[0;32mclass\u001b[0m \u001b[0mSolution\u001b[0m\u001b[0;34m:\u001b[0m\u001b[0;34m\u001b[0m\u001b[0;34m\u001b[0m\u001b[0m\n\u001b[0m\u001b[1;32m      2\u001b[0m     \u001b[0;32mdef\u001b[0m \u001b[0morangesRotting\u001b[0m\u001b[0;34m(\u001b[0m\u001b[0mself\u001b[0m\u001b[0;34m,\u001b[0m \u001b[0mgrid\u001b[0m\u001b[0;34m:\u001b[0m \u001b[0mList\u001b[0m\u001b[0;34m[\u001b[0m\u001b[0mList\u001b[0m\u001b[0;34m[\u001b[0m\u001b[0mint\u001b[0m\u001b[0;34m]\u001b[0m\u001b[0;34m]\u001b[0m\u001b[0;34m)\u001b[0m \u001b[0;34m->\u001b[0m \u001b[0mint\u001b[0m\u001b[0;34m:\u001b[0m\u001b[0;34m\u001b[0m\u001b[0;34m\u001b[0m\u001b[0m\n\u001b[1;32m      3\u001b[0m         \u001b[0mn\u001b[0m\u001b[0;34m,\u001b[0m \u001b[0mm\u001b[0m \u001b[0;34m=\u001b[0m \u001b[0mlen\u001b[0m\u001b[0;34m(\u001b[0m\u001b[0mgrid\u001b[0m\u001b[0;34m)\u001b[0m\u001b[0;34m,\u001b[0m \u001b[0mlen\u001b[0m\u001b[0;34m(\u001b[0m\u001b[0mgrid\u001b[0m\u001b[0;34m[\u001b[0m\u001b[0;36m0\u001b[0m\u001b[0;34m]\u001b[0m\u001b[0;34m)\u001b[0m\u001b[0;34m\u001b[0m\u001b[0;34m\u001b[0m\u001b[0m\n\u001b[1;32m      4\u001b[0m         \u001b[0mnum_fresh\u001b[0m \u001b[0;34m=\u001b[0m \u001b[0;36m0\u001b[0m\u001b[0;34m\u001b[0m\u001b[0;34m\u001b[0m\u001b[0m\n\u001b[1;32m      5\u001b[0m         \u001b[0mq\u001b[0m \u001b[0;34m=\u001b[0m \u001b[0mcollections\u001b[0m\u001b[0;34m.\u001b[0m\u001b[0mdeque\u001b[0m\u001b[0;34m(\u001b[0m\u001b[0;34m)\u001b[0m\u001b[0;34m\u001b[0m\u001b[0;34m\u001b[0m\u001b[0m\n",
            "\u001b[0;32m/tmp/ipython-input-1875361041.py\u001b[0m in \u001b[0;36mSolution\u001b[0;34m()\u001b[0m\n\u001b[1;32m      1\u001b[0m \u001b[0;32mclass\u001b[0m \u001b[0mSolution\u001b[0m\u001b[0;34m:\u001b[0m\u001b[0;34m\u001b[0m\u001b[0;34m\u001b[0m\u001b[0m\n\u001b[0;32m----> 2\u001b[0;31m     \u001b[0;32mdef\u001b[0m \u001b[0morangesRotting\u001b[0m\u001b[0;34m(\u001b[0m\u001b[0mself\u001b[0m\u001b[0;34m,\u001b[0m \u001b[0mgrid\u001b[0m\u001b[0;34m:\u001b[0m \u001b[0mList\u001b[0m\u001b[0;34m[\u001b[0m\u001b[0mList\u001b[0m\u001b[0;34m[\u001b[0m\u001b[0mint\u001b[0m\u001b[0;34m]\u001b[0m\u001b[0;34m]\u001b[0m\u001b[0;34m)\u001b[0m \u001b[0;34m->\u001b[0m \u001b[0mint\u001b[0m\u001b[0;34m:\u001b[0m\u001b[0;34m\u001b[0m\u001b[0;34m\u001b[0m\u001b[0m\n\u001b[0m\u001b[1;32m      3\u001b[0m         \u001b[0mn\u001b[0m\u001b[0;34m,\u001b[0m \u001b[0mm\u001b[0m \u001b[0;34m=\u001b[0m \u001b[0mlen\u001b[0m\u001b[0;34m(\u001b[0m\u001b[0mgrid\u001b[0m\u001b[0;34m)\u001b[0m\u001b[0;34m,\u001b[0m \u001b[0mlen\u001b[0m\u001b[0;34m(\u001b[0m\u001b[0mgrid\u001b[0m\u001b[0;34m[\u001b[0m\u001b[0;36m0\u001b[0m\u001b[0;34m]\u001b[0m\u001b[0;34m)\u001b[0m\u001b[0;34m\u001b[0m\u001b[0;34m\u001b[0m\u001b[0m\n\u001b[1;32m      4\u001b[0m         \u001b[0mnum_fresh\u001b[0m \u001b[0;34m=\u001b[0m \u001b[0;36m0\u001b[0m\u001b[0;34m\u001b[0m\u001b[0;34m\u001b[0m\u001b[0m\n\u001b[1;32m      5\u001b[0m         \u001b[0mq\u001b[0m \u001b[0;34m=\u001b[0m \u001b[0mcollections\u001b[0m\u001b[0;34m.\u001b[0m\u001b[0mdeque\u001b[0m\u001b[0;34m(\u001b[0m\u001b[0;34m)\u001b[0m\u001b[0;34m\u001b[0m\u001b[0;34m\u001b[0m\u001b[0m\n",
            "\u001b[0;31mNameError\u001b[0m: name 'List' is not defined"
          ]
        }
      ]
    },
    {
      "cell_type": "code",
      "source": [],
      "metadata": {
        "id": "XVzszKyatjZi"
      },
      "execution_count": null,
      "outputs": []
    }
  ]
}